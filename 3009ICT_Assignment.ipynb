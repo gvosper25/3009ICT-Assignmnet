{
  "cells": [
    {
      "cell_type": "markdown",
      "metadata": {
        "id": "view-in-github",
        "colab_type": "text"
      },
      "source": [
        "<a href=\"https://colab.research.google.com/github/gvosper25/3009ICT-Assignmnet/blob/main/3009ICT_Assignment.ipynb\" target=\"_parent\"><img src=\"https://colab.research.google.com/assets/colab-badge.svg\" alt=\"Open In Colab\"/></a>"
      ]
    },
    {
      "cell_type": "markdown",
      "metadata": {
        "id": "vy4gDW_swl3L"
      },
      "source": [
        "# Data Processing and Visualization\n",
        "-----\n",
        "**Assignment Topic: Data Analysis on Car Advertisements**\n",
        "\n",
        "\n",
        "Student1 Name: Georgia Vosper\n",
        "\n",
        "SNumber: S5223182\n"
      ]
    },
    {
      "cell_type": "markdown",
      "metadata": {
        "id": "j98eoLRPwl3P"
      },
      "source": [
        "# Data Import"
      ]
    },
    {
      "cell_type": "code",
      "execution_count": 12,
      "metadata": {
        "id": "G7cGG_uJVYi-",
        "colab": {
          "base_uri": "https://localhost:8080/"
        },
        "outputId": "a44a142f-b4f4-444c-f99b-9b128213990b"
      },
      "outputs": [
        {
          "output_type": "stream",
          "name": "stdout",
          "text": [
            "Drive already mounted at /content/drive; to attempt to forcibly remount, call drive.mount(\"/content/drive\", force_remount=True).\n"
          ]
        }
      ],
      "source": [
        "import pandas as pd\n",
        "from sklearn.preprocessing import MinMaxScaler\n",
        "import sqlite3\n",
        "import seaborn as sns\n",
        "from google.colab import drive\n",
        "drive.mount ('/content/drive')"
      ]
    },
    {
      "cell_type": "code",
      "execution_count": 13,
      "metadata": {
        "id": "nm38Iai3jHKR"
      },
      "outputs": [],
      "source": [
        "car_data = pd.read_csv('/content/drive/MyDrive/3009ICT-Assignment/car_dataset.csv')\n",
        "sellers_data = pd.read_csv('/content/drive/MyDrive/3009ICT-Assignment/seller_dataset.csv')"
      ]
    },
    {
      "cell_type": "markdown",
      "metadata": {
        "id": "GnkpG4SgUOJP"
      },
      "source": [
        "# Data Exploration and Cleaning"
      ]
    },
    {
      "cell_type": "markdown",
      "metadata": {
        "id": "FNxR3zUWwl3S"
      },
      "source": [
        "## a. Statistics Computation"
      ]
    },
    {
      "cell_type": "code",
      "execution_count": null,
      "metadata": {
        "colab": {
          "base_uri": "https://localhost:8080/",
          "height": 359
        },
        "id": "-_KR7qouKo4I",
        "outputId": "aa267398-82b9-402a-d7c3-11fda3ef24e4",
        "scrolled": true
      },
      "outputs": [
        {
          "data": {
            "text/plain": [
              "Ellipsis"
            ]
          },
          "execution_count": 21,
          "metadata": {},
          "output_type": "execute_result"
        }
      ],
      "source": [
        "... # Your code goes here"
      ]
    },
    {
      "cell_type": "markdown",
      "metadata": {
        "id": "DIaYryCEwl3S"
      },
      "source": [
        "## b. Outliers and Missing Values"
      ]
    },
    {
      "cell_type": "code",
      "execution_count": null,
      "metadata": {
        "colab": {
          "base_uri": "https://localhost:8080/"
        },
        "id": "VVtlvB4zUUoo",
        "outputId": "d4a67f4a-ea2d-4dab-ab85-516250bd5a5c"
      },
      "outputs": [
        {
          "data": {
            "text/plain": [
              "Ellipsis"
            ]
          },
          "execution_count": 22,
          "metadata": {},
          "output_type": "execute_result"
        }
      ],
      "source": [
        "... # Your code goes here"
      ]
    },
    {
      "cell_type": "markdown",
      "metadata": {
        "id": "VMHQudblqfe-"
      },
      "source": [
        "# Data Formatting"
      ]
    },
    {
      "cell_type": "markdown",
      "metadata": {
        "id": "Rgbx2hoMwl3T"
      },
      "source": [
        "## a. Numerical Conversion"
      ]
    },
    {
      "cell_type": "code",
      "execution_count": null,
      "metadata": {
        "colab": {
          "base_uri": "https://localhost:8080/",
          "height": 359
        },
        "outputId": "aa267398-82b9-402a-d7c3-11fda3ef24e4",
        "scrolled": true,
        "id": "BqJqTaYfwl3T"
      },
      "outputs": [
        {
          "data": {
            "text/plain": [
              "Ellipsis"
            ]
          },
          "execution_count": 21,
          "metadata": {},
          "output_type": "execute_result"
        }
      ],
      "source": [
        "... # Your code goes here"
      ]
    },
    {
      "cell_type": "markdown",
      "metadata": {
        "id": "xO-Jqqfewl3T"
      },
      "source": [
        "## b. Engine Feature Split"
      ]
    },
    {
      "cell_type": "code",
      "execution_count": null,
      "metadata": {
        "scrolled": true,
        "id": "pXGdUVPHwl3U",
        "outputId": "8e57ba31-a6ea-405b-cd6c-264b817fa540"
      },
      "outputs": [
        {
          "data": {
            "text/plain": [
              "Ellipsis"
            ]
          },
          "execution_count": 23,
          "metadata": {},
          "output_type": "execute_result"
        }
      ],
      "source": [
        "... # Your code goes here"
      ]
    },
    {
      "cell_type": "markdown",
      "metadata": {
        "id": "CZDMljOqwl3U"
      },
      "source": [
        "## c. Standardizing Text Data"
      ]
    },
    {
      "cell_type": "code",
      "execution_count": null,
      "metadata": {
        "id": "egea4yOnwl3U",
        "outputId": "b92e3b0d-3476-4bf2-bb5d-8610c5ec98dc"
      },
      "outputs": [
        {
          "data": {
            "text/plain": [
              "Ellipsis"
            ]
          },
          "execution_count": 23,
          "metadata": {},
          "output_type": "execute_result"
        }
      ],
      "source": [
        "... # Your code goes here"
      ]
    },
    {
      "cell_type": "markdown",
      "metadata": {
        "id": "rwwQtOVQwl3U"
      },
      "source": [
        "## d. Numerical Scaling"
      ]
    },
    {
      "cell_type": "code",
      "execution_count": null,
      "metadata": {
        "id": "5iambCcXwl3U",
        "outputId": "bd5f9c9d-385f-4cd8-9179-2ca6c6531355"
      },
      "outputs": [
        {
          "data": {
            "text/plain": [
              "Ellipsis"
            ]
          },
          "execution_count": 23,
          "metadata": {},
          "output_type": "execute_result"
        }
      ],
      "source": [
        "... # Your code goes here"
      ]
    },
    {
      "cell_type": "markdown",
      "metadata": {
        "id": "7FGco_s6tUyf"
      },
      "source": [
        "# Data Storage"
      ]
    },
    {
      "cell_type": "code",
      "execution_count": null,
      "metadata": {
        "colab": {
          "base_uri": "https://localhost:8080/",
          "height": 504
        },
        "id": "wY3sVCA1tV7s",
        "outputId": "392f27a3-0d08-465f-b149-f8f17a278b25"
      },
      "outputs": [
        {
          "data": {
            "text/plain": [
              "Ellipsis"
            ]
          },
          "execution_count": 24,
          "metadata": {},
          "output_type": "execute_result"
        }
      ],
      "source": [
        "... # Your code goes here"
      ]
    },
    {
      "cell_type": "markdown",
      "metadata": {
        "id": "6ApUldEji05C"
      },
      "source": [
        "# Data Visualization"
      ]
    },
    {
      "cell_type": "code",
      "execution_count": null,
      "metadata": {
        "id": "vSHICfdpwl3V",
        "outputId": "bfcfcd4f-8bf1-411f-cce8-870074292b90"
      },
      "outputs": [
        {
          "data": {
            "text/plain": [
              "Ellipsis"
            ]
          },
          "execution_count": 25,
          "metadata": {},
          "output_type": "execute_result"
        }
      ],
      "source": [
        "... # Create as many cells as you need"
      ]
    }
  ],
  "metadata": {
    "colab": {
      "provenance": [],
      "include_colab_link": true
    },
    "kernelspec": {
      "display_name": "Python 3",
      "language": "python",
      "name": "python3"
    },
    "language_info": {
      "codemirror_mode": {
        "name": "ipython",
        "version": 3
      },
      "file_extension": ".py",
      "mimetype": "text/x-python",
      "name": "python",
      "nbconvert_exporter": "python",
      "pygments_lexer": "ipython3",
      "version": "3.7.10"
    }
  },
  "nbformat": 4,
  "nbformat_minor": 0
}